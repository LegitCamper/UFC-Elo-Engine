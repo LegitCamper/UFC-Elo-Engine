{
 "cells": [
  {
   "cell_type": "code",
   "execution_count": 13,
   "id": "9e521026",
   "metadata": {},
   "outputs": [],
   "source": [
    "import pandas as pd\n",
    "import numpy as np\n",
    "from IPython.display import display"
   ]
  },
  {
   "cell_type": "code",
   "execution_count": 14,
   "id": "a34828b7-da4e-47be-aaf7-2ed825376dd8",
   "metadata": {},
   "outputs": [
    {
     "name": "stdout",
     "output_type": "stream",
     "text": [
      "                     Elo Rating\n",
      "Fighter                        \n",
      "Jon Jones               1317.72\n",
      "Georges St-Pierre       1298.36\n",
      "Islam Makhachev         1268.80\n",
      "Max Holloway            1237.82\n",
      "Khabib Nurmagomedov     1237.01\n",
      "...                         ...\n",
      "Jesse Ronson             909.64\n",
      "Sean Soriano             909.47\n",
      "Daniel Lacerda           908.51\n",
      "Joshua Burkman           902.86\n",
      "Chase Sherman            899.94\n",
      "\n",
      "[2527 rows x 1 columns]\n"
     ]
    }
   ],
   "source": [
    "# Load the CSV\n",
    "current_fighters_elo = pd.read_csv(\"current_fighters_elo.csv\", index_col=0)\n",
    "print(current_fighters_elo)"
   ]
  },
  {
   "cell_type": "code",
   "execution_count": 43,
   "id": "fb3d48bf-997e-4c69-a686-ae991be3dd86",
   "metadata": {},
   "outputs": [],
   "source": [
    "# declare functions for betting analysis\n",
    "def find_winner(fighter1: str, fighter2: str):\n",
    "    try:\n",
    "        fighter1_elo = current_fighters_elo.loc[fighter1][\"Elo Rating\"]\n",
    "    except:\n",
    "        print(fighter1, \" has no UFC elo\")\n",
    "        return\n",
    "    try:\n",
    "        fighter2_elo = current_fighters_elo.loc[fighter2][\"Elo Rating\"]\n",
    "    except:\n",
    "        print(fighter2, \" has no UFC elo\")\n",
    "        return\n",
    "    \n",
    "    if fighter1_elo > fighter2_elo:\n",
    "        print(fighter1 ,\"should win!, \", fighter1_elo, \" vs \", fighter2_elo)\n",
    "    elif fighter2_elo > fighter1_elo:\n",
    "        print(fighter2 ,\"should win!, \", fighter1_elo, \" vs \", fighter2_elo)"
   ]
  },
  {
   "cell_type": "code",
   "execution_count": 44,
   "id": "8e0169de",
   "metadata": {},
   "outputs": [
    {
     "name": "stdout",
     "output_type": "stream",
     "text": [
      "Max Holloway should win!,  1148.87  vs  1237.82\n",
      "Robert Whittaker should win!,  1202.6  vs  1149.61\n",
      "Aleksandar Rakic   has no UFC elo\n"
     ]
    },
    {
     "ename": "UnboundLocalError",
     "evalue": "cannot access local variable 'fighter2_elo' where it is not associated with a value",
     "output_type": "error",
     "traceback": [
      "\u001b[0;31m---------------------------------------------------------------------------\u001b[0m",
      "\u001b[0;31mUnboundLocalError\u001b[0m                         Traceback (most recent call last)",
      "Cell \u001b[0;32mIn[44], line 5\u001b[0m\n\u001b[1;32m      3\u001b[0m find_winner(\u001b[38;5;124m\"\u001b[39m\u001b[38;5;124mIlia Topuria\u001b[39m\u001b[38;5;124m\"\u001b[39m, \u001b[38;5;124m\"\u001b[39m\u001b[38;5;124mMax Holloway\u001b[39m\u001b[38;5;124m\"\u001b[39m)\n\u001b[1;32m      4\u001b[0m find_winner(\u001b[38;5;124m\"\u001b[39m\u001b[38;5;124mRobert Whittaker\u001b[39m\u001b[38;5;124m\"\u001b[39m, \u001b[38;5;124m\"\u001b[39m\u001b[38;5;124mKhamzat Chimaev\u001b[39m\u001b[38;5;124m\"\u001b[39m)\n\u001b[0;32m----> 5\u001b[0m \u001b[43mfind_winner\u001b[49m\u001b[43m(\u001b[49m\u001b[38;5;124;43m\"\u001b[39;49m\u001b[38;5;124;43mMagomed Ankalaev\u001b[39;49m\u001b[38;5;124;43m\"\u001b[39;49m\u001b[43m,\u001b[49m\u001b[43m \u001b[49m\u001b[38;5;124;43m\"\u001b[39;49m\u001b[38;5;124;43mAleksandar Rakic \u001b[39;49m\u001b[38;5;124;43m\"\u001b[39;49m\u001b[43m)\u001b[49m\n\u001b[1;32m      6\u001b[0m find_winner(\u001b[38;5;124m\"\u001b[39m\u001b[38;5;124mLerone Muphy\u001b[39m\u001b[38;5;124m\"\u001b[39m, \u001b[38;5;124m\"\u001b[39m\u001b[38;5;124mDan Ige\u001b[39m\u001b[38;5;124m\"\u001b[39m)\n\u001b[1;32m      7\u001b[0m find_winner(\u001b[38;5;124m\"\u001b[39m\u001b[38;5;124mShara Magomedov\u001b[39m\u001b[38;5;124m\"\u001b[39m, \u001b[38;5;124m\"\u001b[39m\u001b[38;5;124mArmen Petrosyan\u001b[39m\u001b[38;5;124m\"\u001b[39m)\n",
      "Cell \u001b[0;32mIn[43], line 12\u001b[0m, in \u001b[0;36mfind_winner\u001b[0;34m(fighter1, fighter2)\u001b[0m\n\u001b[1;32m      9\u001b[0m \u001b[38;5;28;01mexcept\u001b[39;00m:\n\u001b[1;32m     10\u001b[0m     \u001b[38;5;28mprint\u001b[39m(fighter2, \u001b[38;5;124m\"\u001b[39m\u001b[38;5;124m has no UFC elo\u001b[39m\u001b[38;5;124m\"\u001b[39m)\n\u001b[0;32m---> 12\u001b[0m \u001b[38;5;28;01mif\u001b[39;00m fighter1_elo \u001b[38;5;241m>\u001b[39m \u001b[43mfighter2_elo\u001b[49m:\n\u001b[1;32m     13\u001b[0m     \u001b[38;5;28mprint\u001b[39m(fighter1 ,\u001b[38;5;124m\"\u001b[39m\u001b[38;5;124mshould win!, \u001b[39m\u001b[38;5;124m\"\u001b[39m, fighter1_elo, \u001b[38;5;124m\"\u001b[39m\u001b[38;5;124m vs \u001b[39m\u001b[38;5;124m\"\u001b[39m, fighter2_elo)\n\u001b[1;32m     14\u001b[0m \u001b[38;5;28;01melif\u001b[39;00m fighter2_elo \u001b[38;5;241m>\u001b[39m fighter1_elo:\n",
      "\u001b[0;31mUnboundLocalError\u001b[0m: cannot access local variable 'fighter2_elo' where it is not associated with a value"
     ]
    }
   ],
   "source": [
    "# Predict which fighter is expected to win next\n",
    "#find_winner(\"Template\", \"Template\")\n",
    "find_winner(\"Ilia Topuria\", \"Max Holloway\")\n",
    "find_winner(\"Robert Whittaker\", \"Khamzat Chimaev\")\n",
    "find_winner(\"Magomed Ankalaev\", \"Aleksandar Rakic \")\n",
    "find_winner(\"Lerone Muphy\", \"Dan Ige\")\n",
    "find_winner(\"Shara Magomedov\", \"Armen Petrosyan\")\n",
    "find_winner(\"Ibo Aslan\", \"Raffael Cerqueira\")\n",
    "find_winner(\"Geoff Neal\", \"Rafael Dos Anjos\")\n",
    "find_winner(\"Mateusz Rebecki\", \"Myktybek Orolbai\")\n",
    "find_winner(\"Abus Magomedov\", \"Brunno Ferreira\")\n",
    "find_winner(\"Kennedy Nzechukwu\", \"Chris Barnett\")\n",
    "find_winner(\"Farid Basharat\", \"Victor Hugo\")\n",
    "find_winner(\"Ismael Naurdiev\", \"Bruno Silva\")\n",
    "find_winner(\"Rinat Fakhretdinov\", \"Carlos Leal\")"
   ]
  },
  {
   "cell_type": "code",
   "execution_count": null,
   "id": "6a829206-2989-4998-93a1-5c8f5414bcc1",
   "metadata": {},
   "outputs": [],
   "source": []
  }
 ],
 "metadata": {
  "kernelspec": {
   "display_name": "Python 3 (ipykernel)",
   "language": "python",
   "name": "python3"
  },
  "language_info": {
   "codemirror_mode": {
    "name": "ipython",
    "version": 3
   },
   "file_extension": ".py",
   "mimetype": "text/x-python",
   "name": "python",
   "nbconvert_exporter": "python",
   "pygments_lexer": "ipython3",
   "version": "3.11.6"
  }
 },
 "nbformat": 4,
 "nbformat_minor": 5
}
